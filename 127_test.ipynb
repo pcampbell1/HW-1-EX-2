{
 "cells": [
  {
   "cell_type": "code",
   "execution_count": null,
   "id": "4fc7aff4",
   "metadata": {},
   "outputs": [],
   "source": [
    "#This code creates a new list with the products of all the items in given lists x and y\n",
    "x = [10, 20, 30, 40, 50]\n",
    "y = [1, 2, 3, 4, 5]\n",
    "\n",
    "result = []\n",
    "for i in x:\n",
    "  for j in y:\n",
    "    result.append(i * j)\n",
    "\n",
    "print(result)"
   ]
  }
 ],
 "metadata": {
  "kernelspec": {
   "display_name": "Python 3",
   "language": "python",
   "name": "python3"
  },
  "language_info": {
   "codemirror_mode": {
    "name": "ipython",
    "version": 3
   },
   "file_extension": ".py",
   "mimetype": "text/x-python",
   "name": "python",
   "nbconvert_exporter": "python",
   "pygments_lexer": "ipython3",
   "version": "3.8.8"
  }
 },
 "nbformat": 4,
 "nbformat_minor": 5
}
